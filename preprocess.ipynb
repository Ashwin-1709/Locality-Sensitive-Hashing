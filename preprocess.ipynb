{
 "cells": [
  {
   "cell_type": "code",
   "execution_count": 1,
   "metadata": {},
   "outputs": [],
   "source": [
    "import textract\n",
    "import os\n",
    "import pickle\n",
    "from pathlib import Path\n",
    "import numpy as np\n",
    "import pandas as pd\n",
    "root = Path(\".\")\n"
   ]
  },
  {
   "cell_type": "code",
   "execution_count": 2,
   "metadata": {},
   "outputs": [],
   "source": [
    "# list of all doc names\n",
    "files = list()\n",
    "for dir in [r\"\\Auto\", r\"\\Property\"]:\n",
    "    cur_dir = r\".\\Docs\" + dir\n",
    "    for file in os.listdir(cur_dir):\n",
    "        cur_path = r\".\\Docs\" + dir + \"\\\\\" + file\n",
    "        files.append(cur_path)\n",
    "files.sort()"
   ]
  },
  {
   "cell_type": "code",
   "execution_count": 3,
   "metadata": {},
   "outputs": [],
   "source": [
    "# List of string with entire documents \n",
    "documents = list()\n",
    "\n",
    "for file in files:\n",
    "    cur = textract.process(file).decode(\"utf8\")\n",
    "    \n",
    "    ans = list()\n",
    "    for i in range(len(cur)):\n",
    "        if cur[i].isalnum():\n",
    "            ans.append(cur[i].lower())\n",
    "        else:\n",
    "            ans.append(' ')\n",
    "    \n",
    "    res = list()\n",
    "    for i in range(len(ans) - 1):\n",
    "        if ans[i] == ans[i + 1] and ans[i] == ' ':\n",
    "            continue\n",
    "        else:\n",
    "            res.append(ans[i])\n",
    "    \n",
    "    if len(ans) > 0:\n",
    "        res.append(ans[-1])\n",
    "        documents.append(''.join(res))"
   ]
  },
  {
   "attachments": {},
   "cell_type": "markdown",
   "metadata": {},
   "source": [
    "## Taking K"
   ]
  },
  {
   "cell_type": "code",
   "execution_count": 4,
   "metadata": {},
   "outputs": [],
   "source": [
    "def get_shingle_set(documents, k):\n",
    "    shingles = set()\n",
    "    shingle_doc_id = dict()\n",
    "\n",
    "    for j in range(len(documents)):\n",
    "        for i in range(len(documents[j]) - k + 1):\n",
    "            cur_shingle = documents[j][i : i + k]\n",
    "\n",
    "            shingles.add(cur_shingle)\n",
    "            \n",
    "            if shingle_doc_id.get(cur_shingle) == None:\n",
    "                shingle_doc_id[cur_shingle] = [j]\n",
    "            else:\n",
    "                shingle_doc_id[cur_shingle].append(j)\n",
    "    \n",
    "    return (shingles, shingle_doc_id)"
   ]
  },
  {
   "cell_type": "code",
   "execution_count": 5,
   "metadata": {},
   "outputs": [
    {
     "name": "stdout",
     "output_type": "stream",
     "text": [
      "2 782\n",
      "3 5546\n",
      "4 21106\n",
      "5 54265\n",
      "6 107153\n",
      "7 176014\n",
      "8 256246\n",
      "9 340657\n",
      "10 423212\n",
      "11 502426\n",
      "12 576688\n",
      "13 645218\n",
      "14 707339\n"
     ]
    }
   ],
   "source": [
    "for k in range(2, 15):\n",
    "    print(k, len(get_shingle_set(documents, k)[0]))"
   ]
  },
  {
   "attachments": {},
   "cell_type": "markdown",
   "metadata": {},
   "source": [
    "so we will take K as 4"
   ]
  },
  {
   "cell_type": "code",
   "execution_count": 6,
   "metadata": {},
   "outputs": [],
   "source": [
    "K = 4\n",
    "shingles, shingle_doc_id = get_shingle_set(documents, K)\n",
    "shingles = sorted(list(shingles))"
   ]
  },
  {
   "cell_type": "code",
   "execution_count": 7,
   "metadata": {},
   "outputs": [
    {
     "data": {
      "text/plain": [
       "array([[0., 0., 0., ..., 0., 0., 0.],\n",
       "       [0., 0., 0., ..., 0., 0., 0.],\n",
       "       [0., 0., 0., ..., 0., 0., 0.],\n",
       "       ...,\n",
       "       [0., 0., 0., ..., 0., 0., 0.],\n",
       "       [0., 0., 0., ..., 0., 0., 0.],\n",
       "       [0., 0., 0., ..., 0., 0., 0.]])"
      ]
     },
     "execution_count": 7,
     "metadata": {},
     "output_type": "execute_result"
    }
   ],
   "source": [
    "incident_matrix = np.zeros(shape=(len(shingles), len(documents)))\n",
    "incident_matrix"
   ]
  },
  {
   "cell_type": "code",
   "execution_count": 8,
   "metadata": {},
   "outputs": [
    {
     "data": {
      "text/plain": [
       "array([[1., 0., 0., ..., 0., 1., 0.],\n",
       "       [0., 0., 0., ..., 0., 0., 0.],\n",
       "       [1., 1., 0., ..., 0., 0., 0.],\n",
       "       ...,\n",
       "       [0., 0., 0., ..., 0., 0., 0.],\n",
       "       [0., 0., 0., ..., 0., 0., 0.],\n",
       "       [0., 0., 0., ..., 0., 0., 0.]])"
      ]
     },
     "execution_count": 8,
     "metadata": {},
     "output_type": "execute_result"
    }
   ],
   "source": [
    "shingle_id = dict()\n",
    "for i in range(len(shingles)):\n",
    "    shingle_id[shingles[i]] = i\n",
    "\n",
    "for shingle, doc_ids in shingle_doc_id.items():\n",
    "    for doc_id in doc_ids:\n",
    "        incident_matrix[shingle_id[shingle]][doc_id] = 1\n",
    "\n",
    "incident_matrix"
   ]
  },
  {
   "cell_type": "code",
   "execution_count": 9,
   "metadata": {},
   "outputs": [],
   "source": [
    "my_path = root / \"Pickled_files\" / \"Incident_Matrix\"\n",
    "dbfile = open(my_path, 'wb')\n",
    "pickle.dump(incident_matrix, dbfile) \n",
    "dbfile.close()\n",
    "\n",
    "my_path = root / \"Pickled_files\" / \"Shingles\"\n",
    "dbfile = open(my_path, 'wb')\n",
    "pickle.dump(shingles, dbfile) \n",
    "dbfile.close()\n",
    "\n",
    "my_path = root / \"Pickled_files\" / \"Shingle_id\"\n",
    "dbfile = open(my_path, 'wb')\n",
    "pickle.dump(shingle_id, dbfile) \n",
    "dbfile.close()"
   ]
  }
 ],
 "metadata": {
  "kernelspec": {
   "display_name": "base",
   "language": "python",
   "name": "python3"
  },
  "language_info": {
   "codemirror_mode": {
    "name": "ipython",
    "version": 3
   },
   "file_extension": ".py",
   "mimetype": "text/x-python",
   "name": "python",
   "nbconvert_exporter": "python",
   "pygments_lexer": "ipython3",
   "version": "3.8.8"
  },
  "orig_nbformat": 4
 },
 "nbformat": 4,
 "nbformat_minor": 2
}
